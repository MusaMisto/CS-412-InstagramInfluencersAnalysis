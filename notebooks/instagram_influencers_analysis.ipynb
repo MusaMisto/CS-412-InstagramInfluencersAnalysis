{
 "cells": [
  {
   "cell_type": "code",
   "execution_count": null,
   "metadata": {},
   "outputs": [],
   "source": [
    "# Instagram Influencers Analysis\n",
    "# Authors: Musa Misto & Neda Mohamed\n",
    "\n",
    "# Purpose:\n",
    "# This notebook serves as the main workspace for the CS412 course project on Instagram influencer analysis.\n",
    "# The project aims to develop machine learning models for two primary tasks:\n",
    "# 1. Multi-class classification to predict influencer categories based on profile meta-data and recent posts.\n",
    "# 2. Regression analysis to estimate content popularity (e.g., like_count) using relevant features.\n",
    "# The goal is to explore the dataset, preprocess the data, build and evaluate models, and document findings."
   ]
  },
  {
   "cell_type": "code",
   "execution_count": null,
   "metadata": {},
   "outputs": [],
   "source": []
  }
 ],
 "metadata": {
  "language_info": {
   "name": "python"
  }
 },
 "nbformat": 4,
 "nbformat_minor": 2
}
